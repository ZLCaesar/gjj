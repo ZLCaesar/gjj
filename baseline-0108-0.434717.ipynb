{
 "cells": [
  {
   "cell_type": "code",
   "execution_count": 1,
   "metadata": {},
   "outputs": [],
   "source": [
    "import os\n",
    "import time\n",
    "import numpy as np\n",
    "import pandas as pd\n",
    "from sklearn.preprocessing import LabelEncoder\n",
    "from sklearn.model_selection import train_test_split\n",
    "import warnings\n",
    "warnings.filterwarnings('ignore')\n",
    "pd.set_option('display.max_rows', None)\n",
    "pd.set_option('display.max_columns', None)\n",
    "drop_cols = ['主键', '婚姻状况', '职业', '职称', '职务', '学历', '是否逾期']\n",
    "# drop_cols = ['主键', '是否逾期']"
   ]
  },
  {
   "cell_type": "code",
   "execution_count": 2,
   "metadata": {},
   "outputs": [],
   "source": [
    "root = '../data'\n",
    "col_dict = {\n",
    "    'id': '主键',\n",
    "    'XINGBIE': '性别',\n",
    "    'CSNY': '出生年月',\n",
    "    'HYZK': '婚姻状况',\n",
    "    'ZHIYE': '职业',\n",
    "    'ZHICHEN': '职称',\n",
    "    'ZHIWU': '职务',\n",
    "    'XUELI': '学历',\n",
    "    'DWJJLX': '单位经济类型',\n",
    "    'DWSSHY': '单位所属行业',\n",
    "    'GRJCJS': '个人缴存基数',\n",
    "    'GRZHZT': '个人账户状态',\n",
    "    'GRZHYE': '个人账户余额',\n",
    "    'GRZHSNJZYE': '个人账户上年结转余额',\n",
    "    'GRZHDNGJYE': '个人账户当年归集余额', \n",
    "    'GRYJCE': '个人月缴存额',\n",
    "    'DWYJCE': '单位月缴存额',\n",
    "    'DKFFE': '贷款发放额',\n",
    "    'DKYE': '贷款余额',\n",
    "    'DKLL': '贷款利率',\n",
    "    'label': '是否逾期'\n",
    "}"
   ]
  },
  {
   "cell_type": "code",
   "execution_count": 3,
   "metadata": {},
   "outputs": [],
   "source": [
    "def tpr_weight_funtion(y_predict,y_true):\n",
    "    d = pd.DataFrame()\n",
    "    d['prob'] = list(y_predict)\n",
    "    d['y'] = list(y_true.get_label())\n",
    "    d = d.sort_values(['prob'], ascending=[0])\n",
    "    y = d.y\n",
    "    PosAll = pd.Series(y).value_counts()[1]\n",
    "    NegAll = pd.Series(y).value_counts()[0]\n",
    "    pCumsum = d['y'].cumsum()\n",
    "    nCumsum = np.arange(len(y)) - pCumsum + 1\n",
    "    pCumsumPer = pCumsum / PosAll\n",
    "    nCumsumPer = nCumsum / NegAll\n",
    "    TR1 = pCumsumPer[abs(nCumsumPer-0.001).idxmin()]\n",
    "    TR2 = pCumsumPer[abs(nCumsumPer-0.005).idxmin()]\n",
    "    TR3 = pCumsumPer[abs(nCumsumPer-0.01).idxmin()]\n",
    "\n",
    "    return 'tpr', 0.4 * TR1 + 0.3 * TR2 + 0.3 * TR3, True"
   ]
  },
  {
   "cell_type": "code",
   "execution_count": 4,
   "metadata": {},
   "outputs": [],
   "source": [
    "def convert(x):\n",
    "    timeArray = time.localtime(x)\n",
    "    otherStyleTime = time.strftime(\"%Y-%m\", timeArray)\n",
    "    return otherStyleTime"
   ]
  },
  {
   "cell_type": "code",
   "execution_count": 5,
   "metadata": {},
   "outputs": [],
   "source": [
    "train = pd.read_csv(root+'/train.csv')\n",
    "test = pd.read_csv(root+'/test.csv')\n",
    "submit = pd.read_csv(root+'/submit.csv')\n",
    "train['CSNY'] = train['CSNY'].apply(convert)\n",
    "test['CSNY'] = test['CSNY'].apply(convert)"
   ]
  },
  {
   "cell_type": "code",
   "execution_count": 6,
   "metadata": {},
   "outputs": [
    {
     "name": "stderr",
     "output_type": "stream",
     "text": [
      "/Users/zhaoliang/anaconda3/lib/python3.6/site-packages/sklearn/preprocessing/label.py:95: DataConversionWarning: A column-vector y was passed when a 1d array was expected. Please change the shape of y to (n_samples, ), for example using ravel().\n",
      "  y = column_or_1d(y, warn=True)\n"
     ]
    }
   ],
   "source": [
    "train.columns=train.columns.map(col_dict)\n",
    "test.columns=test.columns.map(col_dict)\n",
    "for col in [f for f in train.select_dtypes('int64').columns if f not in ['是否逾期', '贷款发放额']]:\n",
    "    train[col].fillna('-1', inplace=True)\n",
    "    test[col].fillna('-1', inplace=True)\n",
    "    le = LabelEncoder()\n",
    "    le.fit(pd.concat([train[[col]], test[[col]]], axis=0, ignore_index=True))\n",
    "    train[col] = le.transform(train[col])\n",
    "    test[col] = le.transform(test[col])"
   ]
  },
  {
   "cell_type": "code",
   "execution_count": 7,
   "metadata": {
    "collapsed": true
   },
   "outputs": [
    {
     "name": "stderr",
     "output_type": "stream",
     "text": [
      "/Users/zhaoliang/anaconda3/lib/python3.6/site-packages/ipykernel_launcher.py:6: SettingWithCopyWarning: \n",
      "A value is trying to be set on a copy of a slice from a DataFrame.\n",
      "Try using .loc[row_indexer,col_indexer] = value instead\n",
      "\n",
      "See the caveats in the documentation: http://pandas.pydata.org/pandas-docs/stable/user_guide/indexing.html#returning-a-view-versus-a-copy\n",
      "  \n",
      "/Users/zhaoliang/anaconda3/lib/python3.6/site-packages/ipykernel_launcher.py:8: SettingWithCopyWarning: \n",
      "A value is trying to be set on a copy of a slice from a DataFrame.\n",
      "Try using .loc[row_indexer,col_indexer] = value instead\n",
      "\n",
      "See the caveats in the documentation: http://pandas.pydata.org/pandas-docs/stable/user_guide/indexing.html#returning-a-view-versus-a-copy\n",
      "  \n"
     ]
    }
   ],
   "source": [
    "raw_feat_cols = [col for col in list(train.columns) if col not in drop_cols ]\n",
    "train_data = train[raw_feat_cols]\n",
    "train_data['出生年月'] = train_data['出生年月'].apply(lambda x: int(str(x).split('-')[0]))\n",
    "test_data = test[raw_feat_cols]\n",
    "test_data['出生年月'] = test_data['出生年月'].apply(lambda x: int(str(x).split('-')[0]))\n",
    "train_label = train['是否逾期']"
   ]
  },
  {
   "cell_type": "code",
   "execution_count": 8,
   "metadata": {},
   "outputs": [],
   "source": [
    "X_train, X_val, y_train, y_val = train_test_split(train_data, train_label, test_size=0.3)"
   ]
  },
  {
   "cell_type": "code",
   "execution_count": 9,
   "metadata": {},
   "outputs": [
    {
     "name": "stderr",
     "output_type": "stream",
     "text": [
      "/Users/zhaoliang/anaconda3/lib/python3.6/site-packages/lightgbm/__init__.py:46: UserWarning: Starting from version 2.2.1, the library file in distribution wheels for macOS is built by the Apple Clang (Xcode_8.3.3) compiler.\n",
      "This means that in case of installing LightGBM from PyPI via the ``pip install lightgbm`` command, you don't need to install the gcc compiler anymore.\n",
      "Instead of that, you need to install the OpenMP library, which is required for running LightGBM on the system with the Apple Clang compiler.\n",
      "You can install the OpenMP library by the following command: ``brew install libomp``.\n",
      "  \"You can install the OpenMP library by the following command: ``brew install libomp``.\", UserWarning)\n"
     ]
    }
   ],
   "source": [
    "import lightgbm as lgb\n",
    "params = {\n",
    "        'objective': 'binary',\n",
    "        'metric': ['binary_logloss', 'auc'],\n",
    "        'num_leaves': 31,\n",
    "        'max_bin': 50,\n",
    "        'max_depth': 6,\n",
    "        \"learning_rate\": 0.01,\n",
    "        \"colsample_bytree\": 0.8,  # 每次迭代中随机选择特征的比例\n",
    "        \"bagging_fraction\": 0.8,  # 每次迭代时用的数据比例\n",
    "        'min_child_samples': 25,\n",
    "        'n_jobs': -1,\n",
    "        'silent': True,  # 信息输出设置成1则没有信息输出\n",
    "        'seed': 1208,\n",
    "    }  #设置出参数\n"
   ]
  },
  {
   "cell_type": "code",
   "execution_count": 10,
   "metadata": {},
   "outputs": [
    {
     "name": "stderr",
     "output_type": "stream",
     "text": [
      "/Users/zhaoliang/anaconda3/lib/python3.6/site-packages/lightgbm/basic.py:741: UserWarning: silent keyword has been found in `params` and will be ignored.\n",
      "Please use silent argument of the Dataset constructor to pass this parameter.\n",
      "  .format(key))\n"
     ]
    },
    {
     "name": "stdout",
     "output_type": "stream",
     "text": [
      "Training until validation scores don't improve for 200 rounds.\n",
      "[100]\ttraining's auc: 0.917245\ttraining's binary_logloss: 0.161104\tvalid_1's auc: 0.91347\tvalid_1's binary_logloss: 0.166004\n",
      "[200]\ttraining's auc: 0.928318\ttraining's binary_logloss: 0.139786\tvalid_1's auc: 0.921318\tvalid_1's binary_logloss: 0.146726\n",
      "[300]\ttraining's auc: 0.938577\ttraining's binary_logloss: 0.128897\tvalid_1's auc: 0.926566\tvalid_1's binary_logloss: 0.138358\n",
      "[400]\ttraining's auc: 0.945451\ttraining's binary_logloss: 0.122182\tvalid_1's auc: 0.929525\tvalid_1's binary_logloss: 0.134036\n",
      "[500]\ttraining's auc: 0.950939\ttraining's binary_logloss: 0.11723\tvalid_1's auc: 0.931237\tvalid_1's binary_logloss: 0.131409\n",
      "[600]\ttraining's auc: 0.955711\ttraining's binary_logloss: 0.113107\tvalid_1's auc: 0.932494\tvalid_1's binary_logloss: 0.129662\n",
      "[700]\ttraining's auc: 0.959714\ttraining's binary_logloss: 0.10948\tvalid_1's auc: 0.933285\tvalid_1's binary_logloss: 0.128358\n",
      "[800]\ttraining's auc: 0.963387\ttraining's binary_logloss: 0.106103\tvalid_1's auc: 0.933711\tvalid_1's binary_logloss: 0.12753\n",
      "[900]\ttraining's auc: 0.966635\ttraining's binary_logloss: 0.103005\tvalid_1's auc: 0.933953\tvalid_1's binary_logloss: 0.126871\n",
      "[1000]\ttraining's auc: 0.969068\ttraining's binary_logloss: 0.100378\tvalid_1's auc: 0.933582\tvalid_1's binary_logloss: 0.126571\n",
      "Early stopping, best iteration is:\n",
      "[868]\ttraining's auc: 0.965727\ttraining's binary_logloss: 0.103921\tvalid_1's auc: 0.934012\tvalid_1's binary_logloss: 0.127017\n"
     ]
    }
   ],
   "source": [
    "lgb_train = lgb.Dataset(X_train, y_train)\n",
    "lgb_eval  = lgb.Dataset(X_val, y_val, reference=lgb_train)\n",
    "# , feval = tpr_weight_funtion\n",
    "gbm = lgb.train(params, lgb_train, num_boost_round=40000, valid_sets=[lgb_train, lgb_eval],verbose_eval=100,\n",
    "                    early_stopping_rounds=200)"
   ]
  },
  {
   "cell_type": "code",
   "execution_count": 11,
   "metadata": {},
   "outputs": [
    {
     "data": {
      "text/html": [
       "<div>\n",
       "<style scoped>\n",
       "    .dataframe tbody tr th:only-of-type {\n",
       "        vertical-align: middle;\n",
       "    }\n",
       "\n",
       "    .dataframe tbody tr th {\n",
       "        vertical-align: top;\n",
       "    }\n",
       "\n",
       "    .dataframe thead th {\n",
       "        text-align: right;\n",
       "    }\n",
       "</style>\n",
       "<table border=\"1\" class=\"dataframe\">\n",
       "  <thead>\n",
       "    <tr style=\"text-align: right;\">\n",
       "      <th></th>\n",
       "      <th>feat</th>\n",
       "      <th>importance</th>\n",
       "    </tr>\n",
       "  </thead>\n",
       "  <tbody>\n",
       "    <tr>\n",
       "      <th>0</th>\n",
       "      <td>性别</td>\n",
       "      <td>326</td>\n",
       "    </tr>\n",
       "    <tr>\n",
       "      <th>1</th>\n",
       "      <td>出生年月</td>\n",
       "      <td>2472</td>\n",
       "    </tr>\n",
       "    <tr>\n",
       "      <th>2</th>\n",
       "      <td>单位经济类型</td>\n",
       "      <td>2293</td>\n",
       "    </tr>\n",
       "    <tr>\n",
       "      <th>3</th>\n",
       "      <td>单位所属行业</td>\n",
       "      <td>3556</td>\n",
       "    </tr>\n",
       "    <tr>\n",
       "      <th>4</th>\n",
       "      <td>个人缴存基数</td>\n",
       "      <td>2220</td>\n",
       "    </tr>\n",
       "    <tr>\n",
       "      <th>5</th>\n",
       "      <td>个人账户状态</td>\n",
       "      <td>569</td>\n",
       "    </tr>\n",
       "    <tr>\n",
       "      <th>6</th>\n",
       "      <td>个人账户余额</td>\n",
       "      <td>2038</td>\n",
       "    </tr>\n",
       "    <tr>\n",
       "      <th>7</th>\n",
       "      <td>个人账户上年结转余额</td>\n",
       "      <td>2115</td>\n",
       "    </tr>\n",
       "    <tr>\n",
       "      <th>8</th>\n",
       "      <td>个人账户当年归集余额</td>\n",
       "      <td>1808</td>\n",
       "    </tr>\n",
       "    <tr>\n",
       "      <th>9</th>\n",
       "      <td>个人月缴存额</td>\n",
       "      <td>2518</td>\n",
       "    </tr>\n",
       "    <tr>\n",
       "      <th>10</th>\n",
       "      <td>单位月缴存额</td>\n",
       "      <td>524</td>\n",
       "    </tr>\n",
       "    <tr>\n",
       "      <th>11</th>\n",
       "      <td>贷款发放额</td>\n",
       "      <td>2034</td>\n",
       "    </tr>\n",
       "    <tr>\n",
       "      <th>12</th>\n",
       "      <td>贷款余额</td>\n",
       "      <td>2667</td>\n",
       "    </tr>\n",
       "    <tr>\n",
       "      <th>13</th>\n",
       "      <td>贷款利率</td>\n",
       "      <td>744</td>\n",
       "    </tr>\n",
       "  </tbody>\n",
       "</table>\n",
       "</div>"
      ],
      "text/plain": [
       "          feat  importance\n",
       "0           性别         326\n",
       "1         出生年月        2472\n",
       "2       单位经济类型        2293\n",
       "3       单位所属行业        3556\n",
       "4       个人缴存基数        2220\n",
       "5       个人账户状态         569\n",
       "6       个人账户余额        2038\n",
       "7   个人账户上年结转余额        2115\n",
       "8   个人账户当年归集余额        1808\n",
       "9       个人月缴存额        2518\n",
       "10      单位月缴存额         524\n",
       "11       贷款发放额        2034\n",
       "12        贷款余额        2667\n",
       "13        贷款利率         744"
      ]
     },
     "execution_count": 11,
     "metadata": {},
     "output_type": "execute_result"
    }
   ],
   "source": [
    "feat_importance_table = pd.DataFrame(columns=['feat', 'importance'])\n",
    "feat_importance_table['feat'] = gbm.feature_name()\n",
    "feat_importance_table['importance'] = gbm.feature_importance()\n",
    "feat_importance_table"
   ]
  },
  {
   "cell_type": "code",
   "execution_count": 12,
   "metadata": {},
   "outputs": [],
   "source": [
    "test_pre = gbm.predict(test_data, num_iteration=gbm.best_iteration)\n",
    "submit['label'] = test_pre\n",
    "submit.to_csv('../result/submit_0108_01.csv', index=False)"
   ]
  }
 ],
 "metadata": {
  "kernelspec": {
   "display_name": "Python 3",
   "language": "python",
   "name": "python3"
  },
  "language_info": {
   "codemirror_mode": {
    "name": "ipython",
    "version": 3
   },
   "file_extension": ".py",
   "mimetype": "text/x-python",
   "name": "python",
   "nbconvert_exporter": "python",
   "pygments_lexer": "ipython3",
   "version": "3.6.5"
  }
 },
 "nbformat": 4,
 "nbformat_minor": 2
}
